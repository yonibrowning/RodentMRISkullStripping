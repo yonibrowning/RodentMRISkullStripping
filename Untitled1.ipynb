{
 "cells": [
  {
   "cell_type": "code",
   "execution_count": 1,
   "id": "f3dcfae5",
   "metadata": {},
   "outputs": [],
   "source": [
    "from aind_mri_utils.file_io.image_files import read_image, write_nii"
   ]
  },
  {
   "cell_type": "code",
   "execution_count": null,
   "id": "cda548cd",
   "metadata": {},
   "outputs": [],
   "source": [
    "dicoms_to_convert = ['Z:\\workgroups\\ephys\\data\\MRI\\dicom_and_raw\\2023_02_03\\DICOM\\DL_AI2_DL_AI2_655019_2023_02_0__E4_P1_2.16.756.5.5.100.380435303.13926.1675447196.7',\n",
    "                    'Z:\\workgroups\\ephys\\data\\MRI\\dicom_and_raw\\2023_02_03\\DICOM\\DL_AI2_DL_AI2_661275_2023_02_0__E4_P1_2.16.756.5.5.100.380435303.13926.1675455236.14',\n",
    "                    'Z:\\workgroups\\ephys\\data\\MRI\\dicom_and_raw\\2023_02_03\\DICOM\\DL_AI2_DL_AI2_661279_2023_02_0__E7_P1_2.16.756.5.5.100.380435303.13926.1675465982.27',\n",
    "                    'Z:\\workgroups\\ephys\\data\\MRI\\dicom_and_raw\\2023_02_02\\DICOM\\DL_AI2_DL_AI2_661276_2023_02_0__E4_P1_2.16.756.5.5.100.380435303.28378.1675360798.7',\n",
    "                    'Z:\\workgroups\\ephys\\data\\MRI\\dicom_and_raw\\2023_02_02\\DICOM\\DL_AI2_DL_AI2_661277_2023_02_0__E4_P1_2.16.756.5.5.100.380435303.28378.1675369240.14']"
   ]
  }
 ],
 "metadata": {
  "kernelspec": {
   "display_name": "Python 3 (ipykernel)",
   "language": "python",
   "name": "python3"
  },
  "language_info": {
   "codemirror_mode": {
    "name": "ipython",
    "version": 3
   },
   "file_extension": ".py",
   "mimetype": "text/x-python",
   "name": "python",
   "nbconvert_exporter": "python",
   "pygments_lexer": "ipython3",
   "version": "3.7.13"
  }
 },
 "nbformat": 4,
 "nbformat_minor": 5
}
