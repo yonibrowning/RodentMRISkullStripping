{
 "cells": [
  {
   "cell_type": "code",
   "execution_count": 1,
   "id": "bfce0d68",
   "metadata": {},
   "outputs": [],
   "source": [
    "from keras.models import load_model\n",
    "from rbm.core.dice import dice_coef, dice_coef_loss\n",
    "from rbm.core.utils import min_max_normalization, resample_img\n",
    "\n",
    "from rbm.core.paras import PreParas, KerasParas\n",
    "from rbm.scripts.rbm import brain_seg_prediction\n",
    "from pathlib import Path\n",
    "import SimpleITK as sitk\n",
    "import numpy as np\n",
    "from matplotlib import pyplot as plt"
   ]
  },
  {
   "cell_type": "code",
   "execution_count": 30,
   "id": "ffe03581",
   "metadata": {},
   "outputs": [],
   "source": [
    "# Default Parameters Preparation\n",
    "pre_paras = PreParas()\n",
    "pre_paras.patch_dims = [1, 128, 128]\n",
    "pre_paras.patch_label_dims = [1, 128, 128]\n",
    "pre_paras.patch_strides = [1, 32, 32]\n",
    "pre_paras.n_class = 2\n",
    "\n",
    "# Parameters for Keras model\n",
    "keras_paras = KerasParas()\n",
    "keras_paras.outID = 0\n",
    "keras_paras.thd = 0.5\n",
    "keras_paras.loss = 'dice_coef_loss'\n",
    "keras_paras.img_format = 'channels_last'\n",
    "keras_paras.model_path = Path(r'C:\\Users\\yoni.browning\\OneDrive - Allen Institute\\Documents\\GitHub\\RodentMRISkullStripping\\rbm\\scripts')/Path( 'rat_brain-2d_unet.hdf5')"
   ]
  },
  {
   "cell_type": "code",
   "execution_count": 31,
   "id": "12aeaead",
   "metadata": {},
   "outputs": [],
   "source": [
    "model = load_model(keras_paras.model_path,\n",
    "                         custom_objects={'dice_coef_loss': dice_coef_loss,\n",
    "                                         'dice_coef': dice_coef})\n"
   ]
  },
  {
   "cell_type": "code",
   "execution_count": 32,
   "id": "ab50304b",
   "metadata": {},
   "outputs": [],
   "source": [
    "\n",
    "\n",
    "patch_dims = pre_paras.patch_dims\n",
    "label_dims = pre_paras.patch_label_dims\n",
    "strides = pre_paras.patch_strides\n",
    "n_class = pre_paras.n_class\n",
    "\n"
   ]
  },
  {
   "cell_type": "code",
   "execution_count": 35,
   "id": "bec09ab0",
   "metadata": {},
   "outputs": [],
   "source": [
    "patches = []\n",
    "labels = []\n",
    "\n",
    "image_list = [r'D:\\MRI\\Nifti\\636969\\636969_100_raw.nii',\n",
    "              r'D:\\MRI\\Nifti\\632298\\632298_100_raw.nii',\n",
    "              r'D:/MRI/Nifti/634571/634571_100_raw.nii',]\n",
    "              #r'D:/MRI/Nifti/634569/634569_100_raw.nii']\n",
    "label_list = [r'D:/MRI/Nifti/636969/SkullStripAttempt1/SkullStripManual.nii',\n",
    "              r'D:\\MRI\\Nifti\\632298\\SkullStrip\\mask.nii',\n",
    "              r'D:/MRI/Nifti/634571/SkullStrip/ManualSkullStrip.nii',]\n",
    "              #r'D:/MRI/Nifti/634569/ManualSkullStrip.nii']\n",
    "\n",
    "import itertools\n",
    "order = np.array(list(itertools.permutations([0,1,2], 3)))\n",
    "\n",
    "\n",
    "\n",
    "for ii,img_name in enumerate(image_list):\n",
    "    Image = sitk.ReadImage(img_name)\n",
    "    Image = resample_img(Image,new_spacing=[.025,.025,.025],interpolator=sitk.sitkLinear)\n",
    "    image = min_max_normalization(sitk.GetArrayFromImage(Image))\n",
    "    image = image.transpose((1,0,2))\n",
    "    Label = sitk.ReadImage(label_list[ii])\n",
    "    Label = resample_img(Label,new_spacing=[.025,.025,.025],interpolator=sitk.sitkNearestNeighbor)\n",
    "    label = sitk.GetArrayFromImage(Label)>0\n",
    "    label = label.transpose((1,0,2))\n",
    "    \n",
    "    length, col, row = image.shape\n",
    "\n",
    "    for i in range(0, length-patch_dims[0]+1, strides[0]):\n",
    "        for j in range(0, col-patch_dims[1]+1, strides[1]):\n",
    "            for k in range(0, row-patch_dims[2]+1, strides[2]):\n",
    "                cur_patch=image[i:i+patch_dims[0],\n",
    "                              j:j+patch_dims[1],\n",
    "                              k:k+patch_dims[2]][:].reshape([1,\n",
    "                                                             patch_dims[0],\n",
    "                                                             patch_dims[1],\n",
    "                                                             patch_dims[2]])\n",
    "                cur_patch = np.transpose(cur_patch, (0, 2, 3, 1))\n",
    "                patches.append(cur_patch)\n",
    "\n",
    "                cur_label=label[i:i+patch_dims[0],\n",
    "                                  j:j+patch_dims[1],\n",
    "                                  k:k+patch_dims[2]][:].reshape([1,\n",
    "                                                                 patch_dims[0],\n",
    "                                                                 patch_dims[1],\n",
    "                                                                 patch_dims[2]])\n",
    "                cur_label = np.transpose(cur_label, (0, 2, 3, 1))\n",
    "                labels.append(cur_label)"
   ]
  },
  {
   "cell_type": "code",
   "execution_count": 11,
   "id": "58aeee9e",
   "metadata": {},
   "outputs": [
    {
     "ename": "ValueError",
     "evalue": "need at least one array to concatenate",
     "output_type": "error",
     "traceback": [
      "\u001b[1;31m---------------------------------------------------------------------------\u001b[0m",
      "\u001b[1;31mValueError\u001b[0m                                Traceback (most recent call last)",
      "\u001b[1;32m~\\AppData\\Local\\Temp\\ipykernel_108504\\1152477357.py\u001b[0m in \u001b[0;36m<module>\u001b[1;34m\u001b[0m\n\u001b[1;32m----> 1\u001b[1;33m \u001b[0mhistory\u001b[0m  \u001b[1;33m=\u001b[0m \u001b[0mmodel\u001b[0m\u001b[1;33m.\u001b[0m\u001b[0mfit\u001b[0m\u001b[1;33m(\u001b[0m\u001b[0mx\u001b[0m \u001b[1;33m=\u001b[0m \u001b[0mnp\u001b[0m\u001b[1;33m.\u001b[0m\u001b[0mvstack\u001b[0m\u001b[1;33m(\u001b[0m\u001b[0mpatches\u001b[0m\u001b[1;33m)\u001b[0m\u001b[1;33m,\u001b[0m\u001b[0my\u001b[0m \u001b[1;33m=\u001b[0m \u001b[0mnp\u001b[0m\u001b[1;33m.\u001b[0m\u001b[0mvstack\u001b[0m\u001b[1;33m(\u001b[0m\u001b[0mlabels\u001b[0m\u001b[1;33m)\u001b[0m\u001b[1;33m,\u001b[0m\u001b[0mepochs\u001b[0m\u001b[1;33m=\u001b[0m\u001b[1;36m5\u001b[0m\u001b[1;33m,\u001b[0m\u001b[1;33m)\u001b[0m\u001b[1;33m\u001b[0m\u001b[1;33m\u001b[0m\u001b[0m\n\u001b[0m",
      "\u001b[1;32m<__array_function__ internals>\u001b[0m in \u001b[0;36mvstack\u001b[1;34m(*args, **kwargs)\u001b[0m\n",
      "\u001b[1;32m~\\Anaconda3\\envs\\rbm\\lib\\site-packages\\numpy\\core\\shape_base.py\u001b[0m in \u001b[0;36mvstack\u001b[1;34m(tup)\u001b[0m\n\u001b[0;32m    280\u001b[0m     \u001b[1;32mif\u001b[0m \u001b[1;32mnot\u001b[0m \u001b[0misinstance\u001b[0m\u001b[1;33m(\u001b[0m\u001b[0marrs\u001b[0m\u001b[1;33m,\u001b[0m \u001b[0mlist\u001b[0m\u001b[1;33m)\u001b[0m\u001b[1;33m:\u001b[0m\u001b[1;33m\u001b[0m\u001b[1;33m\u001b[0m\u001b[0m\n\u001b[0;32m    281\u001b[0m         \u001b[0marrs\u001b[0m \u001b[1;33m=\u001b[0m \u001b[1;33m[\u001b[0m\u001b[0marrs\u001b[0m\u001b[1;33m]\u001b[0m\u001b[1;33m\u001b[0m\u001b[1;33m\u001b[0m\u001b[0m\n\u001b[1;32m--> 282\u001b[1;33m     \u001b[1;32mreturn\u001b[0m \u001b[0m_nx\u001b[0m\u001b[1;33m.\u001b[0m\u001b[0mconcatenate\u001b[0m\u001b[1;33m(\u001b[0m\u001b[0marrs\u001b[0m\u001b[1;33m,\u001b[0m \u001b[1;36m0\u001b[0m\u001b[1;33m)\u001b[0m\u001b[1;33m\u001b[0m\u001b[1;33m\u001b[0m\u001b[0m\n\u001b[0m\u001b[0;32m    283\u001b[0m \u001b[1;33m\u001b[0m\u001b[0m\n\u001b[0;32m    284\u001b[0m \u001b[1;33m\u001b[0m\u001b[0m\n",
      "\u001b[1;32m<__array_function__ internals>\u001b[0m in \u001b[0;36mconcatenate\u001b[1;34m(*args, **kwargs)\u001b[0m\n",
      "\u001b[1;31mValueError\u001b[0m: need at least one array to concatenate"
     ]
    }
   ],
   "source": [
    "history  = model.fit(x = np.vstack(patches),y = np.vstack(labels),epochs=5,)"
   ]
  },
  {
   "cell_type": "code",
   "execution_count": 7,
   "id": "e75a8052",
   "metadata": {},
   "outputs": [],
   "source": [
    "model.save(r'C:\\Users\\yoni.browning\\OneDrive - Allen Institute\\Documents\\GitHub\\RodentMRISkullStripping\\yoniModelRetrain\\retrain_transpose.h5')"
   ]
  },
  {
   "cell_type": "code",
   "execution_count": 8,
   "id": "0024bec4",
   "metadata": {},
   "outputs": [
    {
     "name": "stdout",
     "output_type": "stream",
     "text": [
      "Wall time: 1min 20s\n"
     ]
    }
   ],
   "source": [
    "%%time\n",
    "keras_paras.model_path = r'C:\\Users\\yoni.browning\\OneDrive - Allen Institute\\Documents\\GitHub\\RodentMRISkullStripping\\yoniModelRetrain\\retrain_traspose.h5'\n",
    "\n",
    "input_path =r'D:/MRI/Nifti/634569/634569_100_raw.nii'\n",
    "output_path =  r'D:\\MRI\\Nifti\\634569\\TEST_634569_traspose.nii'\n",
    "voxsize = .025\n",
    "\n",
    "brain_seg_prediction(input_path, output_path, voxsize, pre_paras, keras_paras)\n"
   ]
  },
  {
   "cell_type": "code",
   "execution_count": 50,
   "id": "dfc0f931",
   "metadata": {},
   "outputs": [],
   "source": [
    "image = resample_img(Image,new_spacing=[.025,.025,.025],interpolator=sitk.sitkLinear)\n",
    "label = resample_img(Label,new_spacing=[.025,.025,.025],interpolator=sitk.sitkNearestNeighbor)"
   ]
  },
  {
   "cell_type": "code",
   "execution_count": 51,
   "id": "bc0e9776",
   "metadata": {},
   "outputs": [
    {
     "data": {
      "text/plain": [
       "<SimpleITK.SimpleITK.Image; proxy of <Swig Object of type 'std::vector< itk::simple::Image >::value_type *' at 0x000002268F6064E0> >"
      ]
     },
     "execution_count": 51,
     "metadata": {},
     "output_type": "execute_result"
    }
   ],
   "source": [
    "label"
   ]
  },
  {
   "cell_type": "code",
   "execution_count": null,
   "id": "d1cdfc88",
   "metadata": {},
   "outputs": [],
   "source": []
  }
 ],
 "metadata": {
  "kernelspec": {
   "display_name": "Python 3 (ipykernel)",
   "language": "python",
   "name": "python3"
  },
  "language_info": {
   "codemirror_mode": {
    "name": "ipython",
    "version": 3
   },
   "file_extension": ".py",
   "mimetype": "text/x-python",
   "name": "python",
   "nbconvert_exporter": "python",
   "pygments_lexer": "ipython3",
   "version": "3.7.13"
  }
 },
 "nbformat": 4,
 "nbformat_minor": 5
}
