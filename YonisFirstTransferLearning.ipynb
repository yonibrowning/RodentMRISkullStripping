{
 "cells": [
  {
   "cell_type": "code",
   "execution_count": 7,
   "id": "9b0137d8",
   "metadata": {},
   "outputs": [],
   "source": [
    "from keras.models import load_model\n",
    "from rbm.core.dice import dice_coef, dice_coef_loss\n",
    "from rbm.core.utils import min_max_normalization, resample_img\n",
    "from rbm.core.eval import out_LabelHot_map_2D\n",
    "from rbm.core.paras import PreParas, KerasParas\n",
    "from rbm.scripts.rbm import brain_seg_prediction\n",
    "from pathlib import Path\n",
    "import SimpleITK as sitk\n",
    "import numpy as np\n",
    "from matplotlib import pyplot as plt"
   ]
  },
  {
   "cell_type": "code",
   "execution_count": 8,
   "id": "036e7f1d",
   "metadata": {},
   "outputs": [],
   "source": [
    "# Default Parameters Preparation\n",
    "pre_paras = PreParas()\n",
    "pre_paras.patch_dims = [1, 128, 128]\n",
    "pre_paras.patch_label_dims = [1, 128, 128]\n",
    "pre_paras.patch_strides = [1, 32, 32]\n",
    "pre_paras.n_class = 2\n",
    "\n",
    "# Parameters for Keras model\n",
    "keras_paras = KerasParas()\n",
    "keras_paras.outID = 0\n",
    "keras_paras.thd = 0.5\n",
    "keras_paras.loss = 'dice_coef_loss'\n",
    "keras_paras.img_format = 'channels_last'\n",
    "keras_paras.model_path = Path(r'C:\\Users\\yoni.browning\\OneDrive - Allen Institute\\Documents\\GitHub\\RodentMRISkullStripping\\rbm\\scripts')/Path( 'rat_brain-2d_unet.hdf5')"
   ]
  },
  {
   "cell_type": "code",
   "execution_count": 9,
   "id": "9e878c84",
   "metadata": {},
   "outputs": [],
   "source": [
    "model = load_model(keras_paras.model_path,\n",
    "                         custom_objects={'dice_coef_loss': dice_coef_loss,\n",
    "                                         'dice_coef': dice_coef})\n"
   ]
  },
  {
   "cell_type": "code",
   "execution_count": 16,
   "id": "44e7aa0a",
   "metadata": {},
   "outputs": [],
   "source": [
    "\n",
    "\n",
    "patch_dims = pre_paras.patch_dims\n",
    "label_dims = pre_paras.patch_label_dims\n",
    "strides = pre_paras.patch_strides\n",
    "n_class = pre_paras.n_class\n",
    "\n"
   ]
  },
  {
   "cell_type": "code",
   "execution_count": 17,
   "id": "0f53ed66",
   "metadata": {},
   "outputs": [],
   "source": [
    "patches = []\n",
    "labels = []\n",
    "\n",
    "image_list = [r'D:\\MRI\\Nifti\\636969\\636969_100_raw.nii',\n",
    "              r'D:\\MRI\\Nifti\\632298\\632298_100_raw.nii',\n",
    "              r'D:/MRI/Nifti/634571/634571_100_raw.nii',]\n",
    "              #r'D:/MRI/Nifti/634569/634569_100_raw.nii']\n",
    "label_list = [r'D:/MRI/Nifti/636969/SkullStripAttempt1/SkullStripManual.nii',\n",
    "              r'D:\\MRI\\Nifti\\632298\\SkullStrip\\mask.nii',\n",
    "              r'D:/MRI/Nifti/634571/SkullStrip/ManualSkullStrip.nii',]\n",
    "              #r'D:/MRI/Nifti/634569/ManualSkullStrip.nii']\n",
    "\n",
    "import itertools\n",
    "order = np.array(list(itertools.permutations([0,1,2], 3)))\n",
    "\n",
    "\n",
    "\n",
    "for ii,img_name in enumerate(image_list):\n",
    "    Image = sitk.ReadImage(img_name)\n",
    "    # Fix a bug in image loading\n",
    "    Image.SetSpacing([.1,.1,.1])\n",
    "    #Image = resample_img(Image,new_spacing=[.025,.025,.025],interpolator=sitk.sitkLinear)\n",
    "    image = sitk.GetArrayFromImage(Image)\n",
    "    #image = image.transpose((1,0,2))\n",
    "    \n",
    "    Label = sitk.ReadImage(label_list[ii])\n",
    "    Label.SetSpacing([.1,.1,.1])\n",
    "    #Label = resample_img(Label,new_spacing=[.025,.025,.025],interpolator=sitk.sitkNearestNeighbor)\n",
    "    label = sitk.GetArrayFromImage(Label)>0\n",
    "    #label = label.transpose((1,0,2))\n",
    "    \n",
    "    length, col, row = image.shape\n",
    "\n",
    "    for i in range(0, length-patch_dims[0]+1, strides[0]):\n",
    "        for j in range(0, col-patch_dims[1]+1, strides[1]):\n",
    "            for k in range(0, row-patch_dims[2]+1, strides[2]):\n",
    "                cur_patch=image[i:i+patch_dims[0],\n",
    "                              j:j+patch_dims[1],\n",
    "                              k:k+patch_dims[2]][:].reshape([1,\n",
    "                                                             patch_dims[0],\n",
    "                                                             patch_dims[1],\n",
    "                                                             patch_dims[2]])\n",
    "                cur_patch = np.transpose(cur_patch, (0, 2, 3, 1))\n",
    "                patches.append(cur_patch)\n",
    "\n",
    "                cur_label=label[i:i+patch_dims[0],\n",
    "                                  j:j+patch_dims[1],\n",
    "                                  k:k+patch_dims[2]][:].reshape([1,\n",
    "                                                                 patch_dims[0],\n",
    "                                                                 patch_dims[1],\n",
    "                                                                 patch_dims[2]])\n",
    "                cur_label = np.transpose(cur_label, (0, 2, 3, 1))\n",
    "                labels.append(cur_label)"
   ]
  },
  {
   "cell_type": "code",
   "execution_count": 20,
   "id": "dc221623",
   "metadata": {},
   "outputs": [
    {
     "name": "stdout",
     "output_type": "stream",
     "text": [
      "11/11 [==============================] - 114s 10s/step - loss: -0.6870 - dice_coef: 0.6908 - val_loss: -0.2223 - val_dice_coef: 0.2084\n"
     ]
    }
   ],
   "source": [
    "history  = model.fit(x = np.vstack(patches),y = np.vstack(labels),)"
   ]
  },
  {
   "cell_type": "code",
   "execution_count": 22,
   "id": "f370f55e",
   "metadata": {},
   "outputs": [],
   "source": [
    "model.save(r'C:\\Users\\yoni.browning\\OneDrive - Allen Institute\\Documents\\GitHub\\RodentMRISkullStripping\\yoniModelRetrain\\retrain_different.h5')"
   ]
  },
  {
   "cell_type": "code",
   "execution_count": 23,
   "id": "8d3d2ba0",
   "metadata": {},
   "outputs": [
    {
     "name": "stdout",
     "output_type": "stream",
     "text": [
      "Wall time: 1min 51s\n"
     ]
    }
   ],
   "source": [
    "%%time\n",
    "keras_paras.model_path = r'C:\\Users\\yoni.browning\\OneDrive - Allen Institute\\Documents\\GitHub\\RodentMRISkullStripping\\yoniModelRetrain\\retrain_different.h5'\n",
    "\n",
    "input_path =r'D:/MRI/Nifti/634569/634569_100_raw.nii'\n",
    "output_path =  r'D:\\MRI\\Nifti\\634569\\TEST_634569_different.nii'\n",
    "voxsize = .1\n",
    "#brain_seg_prediction(input_path, output_path, voxsize, pre_paras, keras_paras,transpose = (1,0,2))\n",
    "\n",
    "\n",
    "# load model\n",
    "seg_net = load_model(keras_paras.model_path,\n",
    "                     custom_objects={'dice_coef_loss': dice_coef_loss,\n",
    "                                     'dice_coef': dice_coef})\n",
    "\n",
    "imgobj = sitk.ReadImage(input_path)\n",
    "\n",
    "# re-sample to given voxel size\n",
    "resampled_imgobj = resample_img(imgobj,\n",
    "                                new_spacing=[voxsize, voxsize, voxsize],\n",
    "                                interpolator=sitk.sitkLinear)\n",
    "\n",
    "img_array = sitk.GetArrayFromImage(resampled_imgobj)\n",
    "\n",
    "\n",
    "normed_array = min_max_normalization(img_array)\n",
    "out_label_map, out_likelihood_map = out_LabelHot_map_2D(normed_array,\n",
    "                                                        seg_net,\n",
    "                                                        pre_paras,\n",
    "                                                        keras_paras)\n",
    "\n",
    "out_label_img = sitk.GetImageFromArray(out_label_map.astype(np.uint8))\n",
    "out_label_img.CopyInformation(resampled_imgobj)\n",
    "\n",
    "resampled_label_map = resample_img(out_label_img,\n",
    "                                   new_spacing=imgobj.GetSpacing(),\n",
    "                                   new_size=imgobj.GetSize(),\n",
    "                                   interpolator=sitk.sitkNearestNeighbor)\n",
    "# Save the results\n",
    "sitk.WriteImage(resampled_label_map, output_path)"
   ]
  },
  {
   "cell_type": "code",
   "execution_count": 19,
   "id": "2fb90948",
   "metadata": {},
   "outputs": [],
   "source": [
    "model.fit?"
   ]
  },
  {
   "cell_type": "code",
   "execution_count": null,
   "id": "aef761e0",
   "metadata": {},
   "outputs": [],
   "source": []
  }
 ],
 "metadata": {
  "kernelspec": {
   "display_name": "Python 3 (ipykernel)",
   "language": "python",
   "name": "python3"
  },
  "language_info": {
   "codemirror_mode": {
    "name": "ipython",
    "version": 3
   },
   "file_extension": ".py",
   "mimetype": "text/x-python",
   "name": "python",
   "nbconvert_exporter": "python",
   "pygments_lexer": "ipython3",
   "version": "3.7.13"
  }
 },
 "nbformat": 4,
 "nbformat_minor": 5
}
