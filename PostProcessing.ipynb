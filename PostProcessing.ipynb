{
 "cells": [
  {
   "cell_type": "code",
   "execution_count": 6,
   "id": "be020485",
   "metadata": {},
   "outputs": [],
   "source": [
    "from pathlib import Path\n",
    "import SimpleITK as sitk\n",
    "import numpy as np\n",
    "import os\n",
    "from skimage import measure\n",
    "from matplotlib import pyplot as plt"
   ]
  },
  {
   "cell_type": "code",
   "execution_count": 64,
   "id": "ff72194e",
   "metadata": {},
   "outputs": [],
   "source": [
    "Image = sitk.ReadImage(r'C:\\Users\\yoni.browning\\OneDrive - Allen Institute\\Documents\\MRI\\JulyScans\\625749\\TEST_625749_3d_long_train.nii')\n",
    "image = sitk.GetArrayFromImage(Image)"
   ]
  },
  {
   "cell_type": "code",
   "execution_count": 65,
   "id": "06592bfb",
   "metadata": {},
   "outputs": [],
   "source": [
    "# Find connected regions of image\n",
    "CC = sitk.ConnectedComponent(Image)\n",
    "cc = sitk.GetArrayFromImage(CC)\n",
    "labels,counts = np.unique(cc,return_counts=True)\n",
    "\n",
    "# Eliminate zeros.\n",
    "counts = counts[labels>0]\n",
    "labels = labels[labels>0]\n",
    "mx = labels[np.argmax(counts)]\n",
    "\n",
    "# Update labels, keeping only the largest.\n",
    "cc[cc!=mx] = 0\n",
    "cc[cc==mx] = 1\n",
    "\n",
    "#\n",
    "Mask = sitk.GetImageFromArray(cc)\n",
    "Mask.CopyInformation(Image)\n"
   ]
  },
  {
   "cell_type": "code",
   "execution_count": 66,
   "id": "deb97270",
   "metadata": {},
   "outputs": [
    {
     "data": {
      "text/plain": [
       "(200, 200, 120)"
      ]
     },
     "execution_count": 66,
     "metadata": {},
     "output_type": "execute_result"
    }
   ],
   "source": [
    "Mask.GetSize()"
   ]
  },
  {
   "cell_type": "code",
   "execution_count": null,
   "id": "7c08bfc1",
   "metadata": {},
   "outputs": [],
   "source": []
  }
 ],
 "metadata": {
  "kernelspec": {
   "display_name": "Python 3 (ipykernel)",
   "language": "python",
   "name": "python3"
  },
  "language_info": {
   "codemirror_mode": {
    "name": "ipython",
    "version": 3
   },
   "file_extension": ".py",
   "mimetype": "text/x-python",
   "name": "python",
   "nbconvert_exporter": "python",
   "pygments_lexer": "ipython3",
   "version": "3.7.13"
  }
 },
 "nbformat": 4,
 "nbformat_minor": 5
}
